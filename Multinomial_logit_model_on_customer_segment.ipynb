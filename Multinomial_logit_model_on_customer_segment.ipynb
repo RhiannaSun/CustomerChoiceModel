{
  "nbformat": 4,
  "nbformat_minor": 0,
  "metadata": {
    "colab": {
      "name": "Multinomial_logit_model_on_customer_segment.ipynb",
      "provenance": [],
      "collapsed_sections": [
        "2O54P79I7iCg",
        "JhEMGxPwWU73",
        "f3LvrqH2WYxk",
        "2O7fT3cRoU4y",
        "HF06on6qptv7",
        "fC_tVxDuqdaO",
        "emX1M8Lcr4Pq",
        "VYfWhsuVqe16",
        "cGGWqpRfrGHg",
        "72IRalD6tfXD",
        "mCTCPcyWw4lN",
        "MmdgDqVZ1vpv"
      ]
    },
    "kernelspec": {
      "name": "python3",
      "display_name": "Python 3"
    },
    "language_info": {
      "name": "python"
    }
  },
  "cells": [
    {
      "cell_type": "markdown",
      "metadata": {
        "id": "2O54P79I7iCg"
      },
      "source": [
        "## Import"
      ]
    },
    {
      "cell_type": "code",
      "metadata": {
        "colab": {
          "base_uri": "https://localhost:8080/"
        },
        "id": "HpwZaY9CV3Fp",
        "outputId": "8ffbcd64-934c-4c5d-ecca-f95800933d6f"
      },
      "source": [
        "from google.colab import drive\n",
        "drive.mount('/content/drive')"
      ],
      "execution_count": null,
      "outputs": [
        {
          "output_type": "stream",
          "text": [
            "Drive already mounted at /content/drive; to attempt to forcibly remount, call drive.mount(\"/content/drive\", force_remount=True).\n"
          ],
          "name": "stdout"
        }
      ]
    },
    {
      "cell_type": "code",
      "metadata": {
        "colab": {
          "base_uri": "https://localhost:8080/"
        },
        "id": "cbHea5zWWDYH",
        "outputId": "82984861-f7cb-47dc-add4-36246a5fcffb"
      },
      "source": [
        "pip install ortools"
      ],
      "execution_count": null,
      "outputs": [
        {
          "output_type": "stream",
          "text": [
            "Requirement already satisfied: ortools in /usr/local/lib/python3.7/dist-packages (9.0.9048)\n",
            "Requirement already satisfied: protobuf>=3.15.8 in /usr/local/lib/python3.7/dist-packages (from ortools) (3.17.3)\n",
            "Requirement already satisfied: absl-py>=0.11 in /usr/local/lib/python3.7/dist-packages (from ortools) (0.12.0)\n",
            "Requirement already satisfied: six in /usr/local/lib/python3.7/dist-packages (from absl-py>=0.11->ortools) (1.15.0)\n"
          ],
          "name": "stdout"
        }
      ]
    },
    {
      "cell_type": "code",
      "metadata": {
        "id": "KFzYZ8MtWI6G"
      },
      "source": [
        "import pandas as pd\n",
        "import numpy as np\n",
        "from sklearn.preprocessing import StandardScaler\n",
        "from scipy.optimize import minimize\n",
        "import matplotlib.pyplot as plt\n",
        "from ortools.linear_solver import pywraplp\n",
        "\n",
        "import seaborn as sns\n",
        "import pylab\n",
        "sns.set_theme(style=\"darkgrid\")\n",
        "\n",
        "\n",
        "np.set_printoptions(suppress=True)"
      ],
      "execution_count": null,
      "outputs": []
    },
    {
      "cell_type": "code",
      "metadata": {
        "id": "jGPkUiicWMgh"
      },
      "source": [
        "data = pd.read_csv('/content/drive/MyDrive/BusinessApplication/Final_Project/data.csv')"
      ],
      "execution_count": null,
      "outputs": []
    },
    {
      "cell_type": "markdown",
      "metadata": {
        "id": "JhEMGxPwWU73"
      },
      "source": [
        "## Explore data analysis"
      ]
    },
    {
      "cell_type": "code",
      "metadata": {
        "colab": {
          "base_uri": "https://localhost:8080/"
        },
        "id": "BVkDtoPAhoOw",
        "outputId": "a4293493-f8ac-43a1-8ba2-7b4d834ab60c"
      },
      "source": [
        "data.columns"
      ],
      "execution_count": null,
      "outputs": [
        {
          "output_type": "execute_result",
          "data": {
            "text/plain": [
              "Index(['srch_id', 'prop_starrating', 'prop_review_score', 'prop_brand_bool',\n",
              "       'prop_location_score', 'prop_accesibility_score',\n",
              "       'prop_log_historical_price', 'price_usd', 'promotion_flag',\n",
              "       'srch_booking_window', 'srch_adults_count', 'srch_children_count',\n",
              "       'srch_room_count', 'srch_saturday_night_bool', 'booking_bool'],\n",
              "      dtype='object')"
            ]
          },
          "metadata": {
            "tags": []
          },
          "execution_count": 112
        }
      ]
    },
    {
      "cell_type": "code",
      "metadata": {
        "colab": {
          "base_uri": "https://localhost:8080/"
        },
        "id": "v-fZPo3ShOZV",
        "outputId": "1be91126-b941-47b1-afad-e5f22746f1d8"
      },
      "source": [
        "print(f'There are {data.srch_id.nunique()} unique search query.')\n",
        "print(f'Among those, {data[data.booking_bool == 1].srch_id.nunique()}({data[data.booking_bool == 1].srch_id.nunique()/data.srch_id.nunique()}) are with booked.')\n",
        "average_hotel_display = data.groupby('srch_id').prop_starrating.count().mean()\n",
        "print(f'in average, {average_hotel_display} hotels option are shown')\n",
        "print(f'Total Revenue is {data[data.booking_bool == 1].price_usd.sum()}')"
      ],
      "execution_count": null,
      "outputs": [
        {
          "output_type": "stream",
          "text": [
            "There are 8354 unique search query.\n",
            "Among those, 5848(0.7000239406272444) are with booked.\n",
            "in average, 18.31565717021786 hotels option are shown\n",
            "Total Revenue is 724462\n"
          ],
          "name": "stdout"
        }
      ]
    },
    {
      "cell_type": "code",
      "metadata": {
        "colab": {
          "base_uri": "https://localhost:8080/",
          "height": 355
        },
        "id": "Z-QqaBPomomU",
        "outputId": "cd23e7fe-bb18-4c2f-b434-f2ba57381663"
      },
      "source": [
        "plt.figure(figsize=(16,5))\n",
        "plt.subplot(121)\n",
        "booking_window_unique = [i[0] for i in data.groupby('srch_id').srch_booking_window.unique().tolist()]\n",
        "_ = plt.hist(booking_window_unique,bins=20,color =['#ff9999'])\n",
        "plt.title('Distribution of booking window of search query')\n",
        "plt.xlabel('book window')\n",
        "_ = plt.ylabel('count(search query)')\n",
        "\n",
        "plt.subplot(122)\n",
        "price_unique = [i[0] for i in data[data.booking_bool==1].groupby('srch_id').price_usd.unique().tolist()]\n",
        "_ = plt.boxplot(booking_window_unique)\n",
        "plt.title('price of purchase')\n",
        "_ = plt.ylabel('price')"
      ],
      "execution_count": null,
      "outputs": [
        {
          "output_type": "display_data",
          "data": {
            "image/png": "[encoded data removed]",
            "text/plain": [
              "<Figure size 1152x360 with 2 Axes>"
            ]
          },
          "metadata": {
            "tags": []
          }
        }
      ]
    },
    {
      "cell_type": "code",
      "metadata": {
        "colab": {
          "base_uri": "https://localhost:8080/",
          "height": 379
        },
        "id": "SlY_pvUGyClr",
        "outputId": "12dce1a0-ee02-4d98-bf3c-b86fdc168b12"
      },
      "source": [
        "data.sort_values(by='price_usd', ascending=False).head(10)"
      ],
      "execution_count": null,
      "outputs": [
        {
          "output_type": "execute_result",
          "data": {
            "text/html": [
              "<div>\n",
              "<style scoped>\n",
              "    .dataframe tbody tr th:only-of-type {\n",
              "        vertical-align: middle;\n",
              "    }\n",
              "\n",
              "    .dataframe tbody tr th {\n",
              "        vertical-align: top;\n",
              "    }\n",
              "\n",
              "    .dataframe thead th {\n",
              "        text-align: right;\n",
              "    }\n",
              "</style>\n",
              "<table border=\"1\" class=\"dataframe\">\n",
              "  <thead>\n",
              "    <tr style=\"text-align: right;\">\n",
              "      <th></th>\n",
              "      <th>srch_id</th>\n",
              "      <th>prop_starrating</th>\n",
              "      <th>prop_review_score</th>\n",
              "      <th>prop_brand_bool</th>\n",
              "      <th>prop_location_score</th>\n",
              "      <th>prop_accesibility_score</th>\n",
              "      <th>prop_log_historical_price</th>\n",
              "      <th>price_usd</th>\n",
              "      <th>promotion_flag</th>\n",
              "      <th>srch_booking_window</th>\n",
              "      <th>srch_adults_count</th>\n",
              "      <th>srch_children_count</th>\n",
              "      <th>srch_room_count</th>\n",
              "      <th>srch_saturday_night_bool</th>\n",
              "      <th>booking_bool</th>\n",
              "      <th>type</th>\n",
              "    </tr>\n",
              "  </thead>\n",
              "  <tbody>\n",
              "    <tr>\n",
              "      <th>151252</th>\n",
              "      <td>663681</td>\n",
              "      <td>4</td>\n",
              "      <td>5</td>\n",
              "      <td>1</td>\n",
              "      <td>1</td>\n",
              "      <td>0</td>\n",
              "      <td>5</td>\n",
              "      <td>7166</td>\n",
              "      <td>0</td>\n",
              "      <td>0</td>\n",
              "      <td>2</td>\n",
              "      <td>0</td>\n",
              "      <td>1</td>\n",
              "      <td>0</td>\n",
              "      <td>0</td>\n",
              "      <td>two_adult_late_book</td>\n",
              "    </tr>\n",
              "    <tr>\n",
              "      <th>151251</th>\n",
              "      <td>663681</td>\n",
              "      <td>4</td>\n",
              "      <td>4</td>\n",
              "      <td>1</td>\n",
              "      <td>3</td>\n",
              "      <td>0</td>\n",
              "      <td>5</td>\n",
              "      <td>5872</td>\n",
              "      <td>0</td>\n",
              "      <td>0</td>\n",
              "      <td>2</td>\n",
              "      <td>0</td>\n",
              "      <td>1</td>\n",
              "      <td>0</td>\n",
              "      <td>0</td>\n",
              "      <td>two_adult_late_book</td>\n",
              "    </tr>\n",
              "    <tr>\n",
              "      <th>133671</th>\n",
              "      <td>645117</td>\n",
              "      <td>3</td>\n",
              "      <td>4</td>\n",
              "      <td>0</td>\n",
              "      <td>0</td>\n",
              "      <td>0</td>\n",
              "      <td>4</td>\n",
              "      <td>4608</td>\n",
              "      <td>0</td>\n",
              "      <td>99</td>\n",
              "      <td>2</td>\n",
              "      <td>0</td>\n",
              "      <td>1</td>\n",
              "      <td>1</td>\n",
              "      <td>0</td>\n",
              "      <td>two_adult_early_book</td>\n",
              "    </tr>\n",
              "    <tr>\n",
              "      <th>130465</th>\n",
              "      <td>641489</td>\n",
              "      <td>5</td>\n",
              "      <td>4</td>\n",
              "      <td>1</td>\n",
              "      <td>3</td>\n",
              "      <td>0</td>\n",
              "      <td>6</td>\n",
              "      <td>4433</td>\n",
              "      <td>1</td>\n",
              "      <td>23</td>\n",
              "      <td>2</td>\n",
              "      <td>0</td>\n",
              "      <td>1</td>\n",
              "      <td>0</td>\n",
              "      <td>0</td>\n",
              "      <td>two_adult_early_book</td>\n",
              "    </tr>\n",
              "    <tr>\n",
              "      <th>133663</th>\n",
              "      <td>645117</td>\n",
              "      <td>4</td>\n",
              "      <td>5</td>\n",
              "      <td>1</td>\n",
              "      <td>4</td>\n",
              "      <td>0</td>\n",
              "      <td>5</td>\n",
              "      <td>4425</td>\n",
              "      <td>0</td>\n",
              "      <td>99</td>\n",
              "      <td>2</td>\n",
              "      <td>0</td>\n",
              "      <td>1</td>\n",
              "      <td>1</td>\n",
              "      <td>0</td>\n",
              "      <td>two_adult_early_book</td>\n",
              "    </tr>\n",
              "    <tr>\n",
              "      <th>151246</th>\n",
              "      <td>663681</td>\n",
              "      <td>4</td>\n",
              "      <td>4</td>\n",
              "      <td>1</td>\n",
              "      <td>3</td>\n",
              "      <td>0</td>\n",
              "      <td>5</td>\n",
              "      <td>4419</td>\n",
              "      <td>0</td>\n",
              "      <td>0</td>\n",
              "      <td>2</td>\n",
              "      <td>0</td>\n",
              "      <td>1</td>\n",
              "      <td>0</td>\n",
              "      <td>0</td>\n",
              "      <td>two_adult_late_book</td>\n",
              "    </tr>\n",
              "    <tr>\n",
              "      <th>151263</th>\n",
              "      <td>663681</td>\n",
              "      <td>4</td>\n",
              "      <td>3</td>\n",
              "      <td>0</td>\n",
              "      <td>4</td>\n",
              "      <td>0</td>\n",
              "      <td>5</td>\n",
              "      <td>3883</td>\n",
              "      <td>0</td>\n",
              "      <td>0</td>\n",
              "      <td>2</td>\n",
              "      <td>0</td>\n",
              "      <td>1</td>\n",
              "      <td>0</td>\n",
              "      <td>0</td>\n",
              "      <td>two_adult_late_book</td>\n",
              "    </tr>\n",
              "    <tr>\n",
              "      <th>151249</th>\n",
              "      <td>663681</td>\n",
              "      <td>4</td>\n",
              "      <td>3</td>\n",
              "      <td>0</td>\n",
              "      <td>4</td>\n",
              "      <td>0</td>\n",
              "      <td>5</td>\n",
              "      <td>3621</td>\n",
              "      <td>0</td>\n",
              "      <td>0</td>\n",
              "      <td>2</td>\n",
              "      <td>0</td>\n",
              "      <td>1</td>\n",
              "      <td>0</td>\n",
              "      <td>0</td>\n",
              "      <td>two_adult_late_book</td>\n",
              "    </tr>\n",
              "    <tr>\n",
              "      <th>151248</th>\n",
              "      <td>663681</td>\n",
              "      <td>4</td>\n",
              "      <td>4</td>\n",
              "      <td>0</td>\n",
              "      <td>4</td>\n",
              "      <td>0</td>\n",
              "      <td>5</td>\n",
              "      <td>3263</td>\n",
              "      <td>0</td>\n",
              "      <td>0</td>\n",
              "      <td>2</td>\n",
              "      <td>0</td>\n",
              "      <td>1</td>\n",
              "      <td>0</td>\n",
              "      <td>0</td>\n",
              "      <td>two_adult_late_book</td>\n",
              "    </tr>\n",
              "    <tr>\n",
              "      <th>69396</th>\n",
              "      <td>416136</td>\n",
              "      <td>4</td>\n",
              "      <td>5</td>\n",
              "      <td>1</td>\n",
              "      <td>5</td>\n",
              "      <td>0</td>\n",
              "      <td>6</td>\n",
              "      <td>3243</td>\n",
              "      <td>0</td>\n",
              "      <td>12</td>\n",
              "      <td>2</td>\n",
              "      <td>0</td>\n",
              "      <td>1</td>\n",
              "      <td>0</td>\n",
              "      <td>0</td>\n",
              "      <td>two_adult_early_book</td>\n",
              "    </tr>\n",
              "  </tbody>\n",
              "</table>\n",
              "</div>"
            ],
            "text/plain": [
              "        srch_id  prop_starrating  ...  booking_bool                  type\n",
              "151252   663681                4  ...             0  two_adult_late_book \n",
              "151251   663681                4  ...             0  two_adult_late_book \n",
              "133671   645117                3  ...             0  two_adult_early_book\n",
              "130465   641489                5  ...             0  two_adult_early_book\n",
              "133663   645117                4  ...             0  two_adult_early_book\n",
              "151246   663681                4  ...             0  two_adult_late_book \n",
              "151263   663681                4  ...             0  two_adult_late_book \n",
              "151249   663681                4  ...             0  two_adult_late_book \n",
              "151248   663681                4  ...             0  two_adult_late_book \n",
              "69396    416136                4  ...             0  two_adult_early_book\n",
              "\n",
              "[10 rows x 16 columns]"
            ]
          },
          "metadata": {
            "tags": []
          },
          "execution_count": 187
        }
      ]
    },
    {
      "cell_type": "code",
      "metadata": {
        "colab": {
          "base_uri": "https://localhost:8080/"
        },
        "id": "N7afvxZeipxm",
        "outputId": "0b85efeb-9104-4829-a7ad-f16bbd19ef2e"
      },
      "source": [
        "print(set(data[data.price_usd > 10000].srch_id.tolist()))\n",
        "data = data[(data.srch_id != 562932) & (data.srch_id != 637207)]"
      ],
      "execution_count": null,
      "outputs": [
        {
          "output_type": "stream",
          "text": [
            "{562932, 637207}\n"
          ],
          "name": "stdout"
        }
      ]
    },
    {
      "cell_type": "code",
      "metadata": {
        "colab": {
          "base_uri": "https://localhost:8080/",
          "height": 368
        },
        "id": "aTyezRyvVaTR",
        "outputId": "4a4e3ab0-0138-4623-f001-3be3e9431d04"
      },
      "source": [
        "plt.figure(figsize=(12,8))\n",
        "plt.subplot(121)\n",
        "\n",
        "df1 = data.groupby(['srch_adults_count']).agg(Distribution = ('srch_id', 'count'))\n",
        "df1['Distribution']=df1['Distribution'].astype(int)\n",
        "\n",
        "plt.title('65% search query with two adults',fontsize=12)\n",
        "_ =df1['Distribution'].plot.pie(autopct='%1.1f%%',colors = ['#ff9999','#66b3ff','#99ff99','#ffcc99'],\n",
        "                                radius=0.9, pctdistance=1.1, labeldistance=1.3,\n",
        "                                wedgeprops = { 'linewidth' : 3, 'edgecolor' : 'white' })\n",
        "pylab.ylabel('')\n",
        "\n",
        "plt.subplot(122)\n",
        "df1 = data[data.srch_adults_count == 2].groupby(['srch_children_count']).agg(Distribution = ('srch_id', 'count'))\n",
        "df1['Distribution']=df1['Distribution'].astype(int)\n",
        "\n",
        "plt.title('Among all 2 adults trip, 80% are with no children',fontsize=12)\n",
        "_ =df1['Distribution'].plot.pie(autopct='%1.1f%%',colors = ['#66b3ff','#99ff99','#ffcc99'],\n",
        "                                radius=0.9, pctdistance=1.1, labeldistance=1.3,\n",
        "                                wedgeprops = { 'linewidth' : 3, 'edgecolor' : 'white' })\n",
        "pylab.ylabel('')"
      ],
      "execution_count": null,
      "outputs": [
        {
          "output_type": "execute_result",
          "data": {
            "text/plain": [
              "Text(0, 0.5, '')"
            ]
          },
          "metadata": {
            "tags": []
          },
          "execution_count": 116
        },
        {
          "output_type": "display_data",
          "data": {
            "image/png": "[encoded data removed]",
            "text/plain": [
              "<Figure size 864x576 with 2 Axes>"
            ]
          },
          "metadata": {
            "tags": []
          }
        }
      ]
    },
    {
      "cell_type": "markdown",
      "metadata": {
        "id": "f3LvrqH2WYxk"
      },
      "source": [
        "## Segment Search Query"
      ]
    },
    {
      "cell_type": "code",
      "metadata": {
        "colab": {
          "base_uri": "https://localhost:8080/"
        },
        "id": "gp3s77t1RVeR",
        "outputId": "6b4ef5f1-6a5d-43a9-b0f4-23a59f82fe34"
      },
      "source": [
        "one_adult_early_book = data[(data['srch_adults_count'] == 1) & (data['srch_booking_window'] > 7)]\n",
        "one_adult_late_book = data[(data['srch_adults_count'] == 1) & (data['srch_booking_window'] <= 7)]\n",
        "\n",
        "two_adult_early_book = data[(data['srch_adults_count'] == 2) & (data['srch_children_count'] == 0) & (data['srch_booking_window'] > 7)]\n",
        "two_adult_late_book = data[(data['srch_adults_count'] == 2) & (data['srch_children_count'] == 0) & (data['srch_booking_window'] <= 7)]\n",
        "\n",
        "two_adult_early_book_with_children = data[(data['srch_adults_count'] == 2) & (data['srch_children_count'] > 0) & (data['srch_booking_window'] > 7)]\n",
        "two_adult_late_book_with_children = data[(data['srch_adults_count'] == 2) & (data['srch_children_count'] >0) & (data['srch_booking_window'] <= 7)]\n",
        "\n",
        "\n",
        "more_adult_early_book = data[(data['srch_adults_count'] > 2) & (data['srch_booking_window'] > 7)]\n",
        "more_adult_late_book = data[(data['srch_adults_count'] > 2) & (data['srch_booking_window'] <= 7)]\n",
        "\n",
        "print(len(set(one_adult_early_book.srch_id)), len(set(one_adult_late_book.srch_id)))\n",
        "print(len(set(two_adult_early_book.srch_id)), len(set(two_adult_late_book.srch_id)))\n",
        "print(len(set(two_adult_early_book_with_children.srch_id)), len(set(two_adult_late_book_with_children.srch_id)))\n",
        "print(len(set(more_adult_early_book.srch_id)), len(set(more_adult_late_book.srch_id)))"
      ],
      "execution_count": null,
      "outputs": [
        {
          "output_type": "stream",
          "text": [
            "894 1236\n",
            "2252 2070\n",
            "650 482\n",
            "489 279\n"
          ],
          "name": "stdout"
        }
      ]
    },
    {
      "cell_type": "code",
      "metadata": {
        "id": "pLwCbR7mWOdy"
      },
      "source": [
        "# Since more adultstend to book earlier, I decide to combine this two group together\n",
        "more_adult = data[data.srch_adults_count > 2]"
      ],
      "execution_count": null,
      "outputs": []
    },
    {
      "cell_type": "code",
      "metadata": {
        "colab": {
          "base_uri": "https://localhost:8080/"
        },
        "id": "wqtz0LrtX4Lj",
        "outputId": "b0bf2638-1f14-44f4-ea4b-18d2244dfbcb"
      },
      "source": [
        "# check if the segmentation valid\n",
        "print('Total number of original dataset', len(data))\n",
        "print('Total number of five groups', len(one_adult_early_book) + len(one_adult_late_book) + len(two_adult_early_book) + len(two_adult_late_book) + len(two_adult_early_book_with_children) + len(two_adult_late_book_with_children) + len(more_adult))"
      ],
      "execution_count": null,
      "outputs": [
        {
          "output_type": "stream",
          "text": [
            "Total number of original dataset 152954\n",
            "Total number of five groups 152954\n"
          ],
          "name": "stdout"
        }
      ]
    },
    {
      "cell_type": "code",
      "metadata": {
        "id": "BAaiGOGbwzsR"
      },
      "source": [
        "def remove_price_outlier(data_seg):\n",
        "    data_book_seg = data_seg[data_seg.booking_bool == 1].copy()\n",
        "    data_book_seg = data_book_seg[data_book_seg.price_usd.between(0, data_book_seg.price_usd.quantile(.95))]\n",
        "    output = data_seg[data_seg.srch_id.isin(data_book_seg.srch_id.unique().tolist())]\n",
        "    return output"
      ],
      "execution_count": null,
      "outputs": []
    },
    {
      "cell_type": "code",
      "metadata": {
        "id": "D_w2Vk4Dxm8k"
      },
      "source": [
        "# one_adult_early_book = remove_price_outlier(one_adult_early_book)\n",
        "# one_adult_late_book = remove_price_outlier(one_adult_late_book)\n",
        "# two_adult_early_book = remove_price_outlier(two_adult_early_book)\n",
        "# two_adult_late_book = remove_price_outlier(two_adult_late_book)\n",
        "# two_adult_early_book_with_children = remove_price_outlier(two_adult_early_book_with_children)\n",
        "# two_adult_late_book_with_children = remove_price_outlier(two_adult_late_book_with_children)\n",
        "# more_adult = remove_price_outlier(more_adult)"
      ],
      "execution_count": null,
      "outputs": []
    },
    {
      "cell_type": "code",
      "metadata": {
        "id": "fsWO7zYkY8qw"
      },
      "source": [
        "def label_type (row):\n",
        "   if row['srch_adults_count'] == 1 and  row['srch_booking_window'] > 7:\n",
        "      return 'one_adult_early_book'\n",
        "   if row['srch_adults_count'] == 1 and  row['srch_booking_window'] <= 7:\n",
        "      return 'one_adult_late_book'\n",
        "   if row['srch_adults_count'] == 2 and  row['srch_children_count'] == 0 and row['srch_booking_window'] > 7:\n",
        "      return 'two_adult_early_book'\n",
        "   if row['srch_adults_count'] == 2 and  row['srch_children_count'] == 0 and row['srch_booking_window'] <= 7:\n",
        "      return 'two_adult_late_book '\n",
        "   if row['srch_adults_count'] == 2 and  row['srch_children_count'] > 0 and row['srch_booking_window'] > 7:\n",
        "      return 'two_adult_early_book_with_children'\n",
        "   if row['srch_adults_count'] == 2 and  row['srch_children_count'] > 0 and row['srch_booking_window'] <= 7:\n",
        "      return 'two_adult_late_book_with_children'\n",
        "   if row['srch_adults_count'] > 2:\n",
        "      return 'more_adult'\n",
        "   return 'Other'"
      ],
      "execution_count": null,
      "outputs": []
    },
    {
      "cell_type": "code",
      "metadata": {
        "colab": {
          "base_uri": "https://localhost:8080/",
          "height": 410
        },
        "id": "EvG0r-y8YU0F",
        "outputId": "38a05fce-7655-44b0-ca2f-fc86b513e441"
      },
      "source": [
        "\n",
        "plt.figure(figsize=(16,6))\n",
        "\n",
        "plt.subplot(121) \n",
        "data_with_type = data.copy()\n",
        "data_with_type['type'] = data_with_type.apply (lambda row: label_type(row), axis=1)\n",
        "g = sns.kdeplot(data=data_with_type[data_with_type.booking_bool == 1], x=\"price_usd\", hue='type',clip=(0, 1000))\n",
        "\n",
        "\n",
        "plt.subplot(122) \n",
        "\n",
        "df = data[data.booking_bool==1].groupby('type').agg(Revenue = ('price_usd', 'sum'))\n",
        "_ =df['Revenue'].plot.pie(autopct='%1.1f%%',colors = ['#ff9999','#66b3ff','#99ff99','#ffcc99'],\n",
        "                          radius=0.7, pctdistance=1.1, labeldistance=1.3,\n",
        "                          wedgeprops = { 'linewidth' : 3, 'edgecolor' : 'white' })\n",
        "pylab.ylabel('')\n",
        "_ = plt.title('Revenue contributed from each group (Total Revenue is 724462)')\n"
      ],
      "execution_count": null,
      "outputs": [
        {
          "output_type": "display_data",
          "data": {
            "image/png": "[encoded data removed]",
            "text/plain": [
              "<Figure size 1152x432 with 2 Axes>"
            ]
          },
          "metadata": {
            "tags": []
          }
        }
      ]
    },
    {
      "cell_type": "markdown",
      "metadata": {
        "id": "2O7fT3cRoU4y"
      },
      "source": [
        "## Apply Multinomial Logit Model\n",
        "\n",
        "#### MNL is one of the foundamental choice model was proposed by McFodder in 1970.\n",
        "\n",
        "#### If we offer set S, P(j|S) is the probability that customer select j: $\\sum_{j=1}^n P(j|S) + P(0|S) = 1$\n",
        "\n",
        "We define a preference weight for each product.\n",
        "$v_j$:prefernce weight for product i \\\\\n",
        "$v_o$:prefernce weight of non-purchcase \n",
        "\n",
        "$P(j|S) = \\frac{v_j}{v_o+\\sum_{S}v_i}$ = $\\frac{v_j}{1+\\sum_{S}v_i}$;  $P(o|S)$ = $\\frac{1}{1+\\sum_{S}v_i}$\n",
        "\n",
        "Under MNL: \n",
        "\n",
        "v_j = $e^{u_j}$ \\\\\n",
        "u_j: utility of product j, which is estimated as a linear function of the features of product j: $u_j$ = $\\beta_0$ + $\\sum_{i=1}^k\\beta_ix_{ji}$\n",
        "\n",
        "\n",
        "\n",
        "\n"
      ]
    },
    {
      "cell_type": "markdown",
      "metadata": {
        "id": "6F3x1sRe8Q5O"
      },
      "source": [
        "To solve for $\\beta$, apply Maximum Likelihood:\n",
        "**Max$\\sum_{t=1}^{T}logP(j_t|S_t)$**\n",
        "\n",
        "Impleted as below\n",
        "\n"
      ]
    },
    {
      "cell_type": "code",
      "metadata": {
        "id": "cE0eenvYn3AM"
      },
      "source": [
        "def mle(w):\n",
        "    global norm_data, book_data\n",
        "    obj1 = 0 \n",
        "    obj2 = 0\n",
        "    features = norm_data.columns[1:9].tolist()\n",
        "\n",
        "    obj1 = w[0] * book_data.shape[0]\n",
        "    for i in range(len(features)):\n",
        "        sum_features = sum(book_data[features[i]])\n",
        "        obj1 += sum_features * w[i+1]\n",
        "    data_features = norm_data[norm_data.columns[1:9].tolist()].values\n",
        "    obj2 = np.sum([np.log( 1+ np.sum([np.exp(w[0] + np.sum([w[i+1] * data_features[j][i] for i in range(8)])) for j in range(len(data_features))] )) for data_features in data_features_list])\n",
        "    return - (obj1-obj2)"
      ],
      "execution_count": null,
      "outputs": []
    },
    {
      "cell_type": "code",
      "metadata": {
        "id": "YyVDaFfIoUex"
      },
      "source": [
        "scaler = StandardScaler()\n",
        "scaler.fit(data[data.columns[1:9].tolist()])\n",
        "def normalize_data(data):\n",
        "    norm_data = data.copy()\n",
        "    norm_data[norm_data.columns[1:9].tolist()] = scaler.transform(data[data.columns[1:9].tolist()])\n",
        "    book_data = norm_data[norm_data.booking_bool == 1]\n",
        "    features = norm_data.columns[1:9].tolist()\n",
        "    data_features = norm_data.groupby('srch_id')[norm_data.columns[1:9].tolist()].apply(lambda g: g.values.tolist()).to_dict()\n",
        "    data_features_list = []\n",
        "    for key, val in data_features.items():\n",
        "        data_features_list.append(val)\n",
        "    return norm_data, book_data,features,data_features_list"
      ],
      "execution_count": null,
      "outputs": []
    },
    {
      "cell_type": "markdown",
      "metadata": {
        "id": "HF06on6qptv7"
      },
      "source": [
        "#### $\\beta$ for One Adult Early Book \n",
        "\\begin{array}{ccc}\n",
        "\\beta_0 & \\beta_1 & \\beta_2 & \\beta_3 & \\beta_4 & \\beta_5 & \\beta_6 & \\beta_7 & \\beta_8 \\\\\n",
        "\\text{No Purchase} & \\text{Star Rating} & \\text{Review Score} & \\text{Hotel Brand} & \\text{Location Score} & \\text{Accessibility Score} & \\text{Historical Price} & \\text{Displayed Price} & \\text{Promotion Flag}\\\\\n",
        "-1.65687691 & 0.39322619 & 0.13534746& 0.14898454 & 0.04693975 & 0.03907592&\n",
        " -0.0987592 & -0.84834117 & 0.14000788 \\\\\n",
        "\\end{array}"
      ]
    },
    {
      "cell_type": "code",
      "metadata": {
        "colab": {
          "base_uri": "https://localhost:8080/"
        },
        "id": "VJaQJKoXo7bq",
        "outputId": "5b94d4d0-dbde-4ecf-804a-c3d05b7776ec"
      },
      "source": [
        "%%time\n",
        "norm_data, book_data,features,data_features_list = normalize_data(one_adult_early_book)\n",
        "res = minimize(mle, np.ones((9,)), method=\"BFGS\")"
      ],
      "execution_count": null,
      "outputs": [
        {
          "output_type": "stream",
          "text": [
            "CPU times: user 1min 27s, sys: 224 ms, total: 1min 28s\n",
            "Wall time: 1min 28s\n"
          ],
          "name": "stdout"
        }
      ]
    },
    {
      "cell_type": "code",
      "metadata": {
        "colab": {
          "base_uri": "https://localhost:8080/"
        },
        "id": "ubNAasAepk8F",
        "outputId": "f2f3eab5-044c-447d-e829-414481031d44"
      },
      "source": [
        "print(res.x)\n",
        "beta1 = res.x"
      ],
      "execution_count": null,
      "outputs": [
        {
          "output_type": "stream",
          "text": [
            "[-1.65687691  0.39322619  0.13534746  0.14898454  0.04693975  0.03907592\n",
            " -0.0987592  -0.84834117  0.14000788]\n"
          ],
          "name": "stdout"
        }
      ]
    },
    {
      "cell_type": "markdown",
      "metadata": {
        "id": "fC_tVxDuqdaO"
      },
      "source": [
        "#### $\\beta$ for One Adult Late Book \n",
        "\\begin{array}{ccc}\n",
        "\\beta_0 & \\beta_1 & \\beta_2 & \\beta_3 & \\beta_4 & \\beta_5 & \\beta_6 & \\beta_7 & \\beta_8 \\\\\n",
        "\\text{No Purchase} & \\text{Star Rating} & \\text{Review Score} & \\text{Hotel Brand} & \\text{Location Score} & \\text{Accessibility Score} & \\text{Historical Price} & \\text{Displayed Price} & \\text{Promotion Flag}\\\\\n",
        "-1.09515076  &0.47160355 & 0.03070543&  0.16362486&  0.11890095  &0.01179536&\n",
        " -0.01737279& -0.8929924 &  0.14899753\\\\\n",
        "\\end{array}"
      ]
    },
    {
      "cell_type": "code",
      "metadata": {
        "colab": {
          "base_uri": "https://localhost:8080/"
        },
        "id": "-tDwfd8Rqdab",
        "outputId": "1fa50b01-7146-4faf-cfac-c4ffb160bfb5"
      },
      "source": [
        "%%time\n",
        "norm_data, book_data,features,data_features_list = normalize_data(one_adult_late_book)\n",
        "res = minimize(mle, np.ones((9,)), method=\"BFGS\")"
      ],
      "execution_count": null,
      "outputs": [
        {
          "output_type": "stream",
          "text": [
            "CPU times: user 4min 36s, sys: 579 ms, total: 4min 37s\n",
            "Wall time: 4min 37s\n"
          ],
          "name": "stdout"
        }
      ]
    },
    {
      "cell_type": "code",
      "metadata": {
        "colab": {
          "base_uri": "https://localhost:8080/"
        },
        "id": "RB-s8yZTqdab",
        "outputId": "f1e4eb79-03a7-4f71-effe-916bb783fd70"
      },
      "source": [
        "print(res.x)\n",
        "beta2 = res.x"
      ],
      "execution_count": null,
      "outputs": [
        {
          "output_type": "stream",
          "text": [
            "[-1.09515076  0.47160355  0.03070543  0.16362486  0.11890095  0.01179536\n",
            " -0.01737279 -0.8929924   0.14899753]\n"
          ],
          "name": "stdout"
        }
      ]
    },
    {
      "cell_type": "markdown",
      "metadata": {
        "id": "emX1M8Lcr4Pq"
      },
      "source": [
        "#### $\\beta$ for Two Adult Early Book\n",
        "\\begin{array}{ccc}\n",
        "\\beta_0 & \\beta_1 & \\beta_2 & \\beta_3 & \\beta_4 & \\beta_5 & \\beta_6 & \\beta_7 & \\beta_8 \\\\\n",
        "\\text{No Purchase} & \\text{Star Rating} & \\text{Review Score} & \\text{Hotel Brand} & \\text{Location Score} & \\text{Accessibility Score} & \\text{Historical Price} & \\text{Displayed Price} & \\text{Promotion Flag}\\\\\n",
        "-2.05114188 &  0.43516234 & 0.10855248 & 0.07264858 &-0.01034439 & 0.06280207&\n",
        " -0.04934801& -0.82423012 & 0.13408575] \\\\\n",
        "\\end{array}"
      ]
    },
    {
      "cell_type": "code",
      "metadata": {
        "colab": {
          "base_uri": "https://localhost:8080/"
        },
        "id": "gZWcKwsXr4P5",
        "outputId": "89f45fb8-551a-4590-f716-e6a6635b6252"
      },
      "source": [
        "%%time\n",
        "norm_data, book_data,features,data_features_list = normalize_data(two_adult_early_book)\n",
        "res = minimize(mle, np.ones((9,)), method=\"BFGS\")"
      ],
      "execution_count": null,
      "outputs": [
        {
          "output_type": "stream",
          "text": [
            "/usr/local/lib/python3.7/dist-packages/scipy/optimize/optimize.py:1058: RuntimeWarning: divide by zero encountered in double_scalars\n",
            "  rhok = 1.0 / (numpy.dot(yk, sk))\n"
          ],
          "name": "stderr"
        },
        {
          "output_type": "stream",
          "text": [
            "CPU times: user 8min 10s, sys: 1.01 s, total: 8min 11s\n",
            "Wall time: 8min 11s\n"
          ],
          "name": "stdout"
        }
      ]
    },
    {
      "cell_type": "code",
      "metadata": {
        "colab": {
          "base_uri": "https://localhost:8080/"
        },
        "id": "aT3p62Zvr4P6",
        "outputId": "faffbeed-666a-470c-bc05-c2d99b8a6b21"
      },
      "source": [
        "print(res.x)\n",
        "beta3 = res.x"
      ],
      "execution_count": null,
      "outputs": [
        {
          "output_type": "stream",
          "text": [
            "[-2.05114188  0.43516234  0.10855248  0.07264858 -0.01034439  0.06280207\n",
            " -0.04934801 -0.82423012  0.13408575]\n"
          ],
          "name": "stdout"
        }
      ]
    },
    {
      "cell_type": "markdown",
      "metadata": {
        "id": "VYfWhsuVqe16"
      },
      "source": [
        "#### $\\beta$ for Two Adult Late Book\n",
        "\\begin{array}{ccc}\n",
        "\\beta_0 & \\beta_1 & \\beta_2 & \\beta_3 & \\beta_4 & \\beta_5 & \\beta_6 & \\beta_7 & \\beta_8 \\\\\n",
        "\\text{No Purchase} & \\text{Star Rating} & \\text{Review Score} & \\text{Hotel Brand} & \\text{Location Score} & \\text{Accessibility Score} & \\text{Historical Price} & \\text{Displayed Price} & \\text{Promotion Flag}\\\\\n",
        "-1.77425393 & 0.46584541 & 0.13045475 & 0.11199533 & 0.02774621 & 0.02587196&\n",
        "  0.04161532& -1.070673  &  0.20968664\\\\\n",
        "\\end{array}"
      ]
    },
    {
      "cell_type": "code",
      "metadata": {
        "colab": {
          "base_uri": "https://localhost:8080/"
        },
        "id": "1EkbOy-Zqe16",
        "outputId": "46528f56-f843-4bd1-ae90-90993a367f31"
      },
      "source": [
        "%%time\n",
        "norm_data, book_data,features,data_features_list = normalize_data(two_adult_late_book)\n",
        "res = minimize(mle, np.ones((9,)), method=\"BFGS\")"
      ],
      "execution_count": null,
      "outputs": [
        {
          "output_type": "stream",
          "text": [
            "CPU times: user 3min 38s, sys: 442 ms, total: 3min 38s\n",
            "Wall time: 3min 39s\n"
          ],
          "name": "stdout"
        }
      ]
    },
    {
      "cell_type": "code",
      "metadata": {
        "colab": {
          "base_uri": "https://localhost:8080/"
        },
        "id": "lntvxkUfqe2B",
        "outputId": "45254bff-f453-4399-b6e4-0a5dad95fd83"
      },
      "source": [
        "print(res.x)\n",
        "beta4 = res.x"
      ],
      "execution_count": null,
      "outputs": [
        {
          "output_type": "stream",
          "text": [
            "[-1.77425393  0.46584541  0.13045475  0.11199533  0.02774621  0.02587196\n",
            "  0.04161532 -1.070673    0.20968664]\n"
          ],
          "name": "stdout"
        }
      ]
    },
    {
      "cell_type": "markdown",
      "metadata": {
        "id": "cGGWqpRfrGHg"
      },
      "source": [
        "#### $\\beta$ for two_adult_early_book_with_children\n",
        "\\begin{array}{ccc}\n",
        "\\beta_0 & \\beta_1 & \\beta_2 & \\beta_3 & \\beta_4 & \\beta_5 & \\beta_6 & \\beta_7 & \\beta_8 \\\\\n",
        "\\text{No Purchase} & \\text{Star Rating} & \\text{Review Score} & \\text{Hotel Brand} & \\text{Location Score} & \\text{Accessibility Score} & \\text{Historical Price} & \\text{Displayed Price} & \\text{Promotion Flag}\\\\\n",
        "-1.96615172 & 0.3394144 &   0.22477716&  0.16317336& -0.02526133&  0.08379253&\n",
        " -0.25975851& -0.60556229  &0.05295875 \\\\\n",
        "\\end{array}"
      ]
    },
    {
      "cell_type": "code",
      "metadata": {
        "colab": {
          "base_uri": "https://localhost:8080/"
        },
        "id": "vvA9qd0srGHg",
        "outputId": "7d304583-844f-4204-f15f-8b8c233c9e10"
      },
      "source": [
        "%%time\n",
        "norm_data, book_data,features,data_features_list = normalize_data(two_adult_early_book_with_children)\n",
        "res = minimize(mle, np.ones((9,)), method=\"BFGS\")"
      ],
      "execution_count": null,
      "outputs": [
        {
          "output_type": "stream",
          "text": [
            "CPU times: user 1min 24s, sys: 199 ms, total: 1min 24s\n",
            "Wall time: 1min 24s\n"
          ],
          "name": "stdout"
        }
      ]
    },
    {
      "cell_type": "code",
      "metadata": {
        "colab": {
          "base_uri": "https://localhost:8080/"
        },
        "id": "FTRDyocNrGHh",
        "outputId": "169685b2-1d31-42eb-dcd1-e328ee4cd25e"
      },
      "source": [
        "print(res.x)\n",
        "beta5 = res.x"
      ],
      "execution_count": null,
      "outputs": [
        {
          "output_type": "stream",
          "text": [
            "[-1.96615172  0.3394144   0.22477716  0.16317336 -0.02526133  0.08379253\n",
            " -0.25975851 -0.60556229  0.05295875]\n"
          ],
          "name": "stdout"
        }
      ]
    },
    {
      "cell_type": "markdown",
      "metadata": {
        "id": "72IRalD6tfXD"
      },
      "source": [
        "#### $\\beta$ for two_adult_late_book_with_children\n",
        "\\begin{array}{ccc}\n",
        "\\beta_0 & \\beta_1 & \\beta_2 & \\beta_3 & \\beta_4 & \\beta_5 & \\beta_6 & \\beta_7 & \\beta_8 \\\\\n",
        "\\text{No Purchase} & \\text{Star Rating} & \\text{Review Score} & \\text{Hotel Brand} & \\text{Location Score} & \\text{Accessibility Score} & \\text{Historical Price} & \\text{Displayed Price} & \\text{Promotion Flag}\\\\\n",
        "-1.81656813  &0.53136945 & 0.12846492 & 0.07999609& -0.00769564&  0.05857278&\n",
        " -0.20825877& -1.33673477 & 0.23217329\\\\\n",
        "\\end{array}"
      ]
    },
    {
      "cell_type": "code",
      "metadata": {
        "colab": {
          "base_uri": "https://localhost:8080/"
        },
        "id": "T5ljqlpEtlKm",
        "outputId": "44ac0288-4678-48b5-e9c5-eaafa5058e3c"
      },
      "source": [
        "%%time\n",
        "norm_data, book_data,features,data_features_list = normalize_data(two_adult_late_book_with_children)\n",
        "res = minimize(mle, np.ones((9,)), method=\"BFGS\")"
      ],
      "execution_count": null,
      "outputs": [
        {
          "output_type": "stream",
          "text": [
            "CPU times: user 2min 56s, sys: 375 ms, total: 2min 56s\n",
            "Wall time: 2min 56s\n"
          ],
          "name": "stdout"
        }
      ]
    },
    {
      "cell_type": "code",
      "metadata": {
        "colab": {
          "base_uri": "https://localhost:8080/"
        },
        "id": "61jXNW_ev_o_",
        "outputId": "a0cc8b20-8387-453c-c75b-1e8d8af9c2a9"
      },
      "source": [
        "print(res.x)\n",
        "beta6 = res.x"
      ],
      "execution_count": null,
      "outputs": [
        {
          "output_type": "stream",
          "text": [
            "[-1.81656813  0.53136945  0.12846492  0.07999609 -0.00769564  0.05857278\n",
            " -0.20825877 -1.33673477  0.23217329]\n"
          ],
          "name": "stdout"
        }
      ]
    },
    {
      "cell_type": "markdown",
      "metadata": {
        "id": "mCTCPcyWw4lN"
      },
      "source": [
        "#### $\\beta$ for more_adult\n",
        "\\begin{array}{ccc}\n",
        "\\beta_0 & \\beta_1 & \\beta_2 & \\beta_3 & \\beta_4 & \\beta_5 & \\beta_6 & \\beta_7 & \\beta_8 \\\\\n",
        "\\text{No Purchase} & \\text{Star Rating} & \\text{Review Score} & \\text{Hotel Brand} & \\text{Location Score} & \\text{Accessibility Score} & \\text{Historical Price} & \\text{Displayed Price} & \\text{Promotion Flag}\\\\\n",
        "-1.61299133&  0.44489648 & 0.21437708 &-0.03209845 & 0.10848731 & 0.05663473&\n",
        " -0.04018944& -1.2135436 &  0.16383835\\\\\n",
        "\\end{array}"
      ]
    },
    {
      "cell_type": "code",
      "metadata": {
        "colab": {
          "base_uri": "https://localhost:8080/"
        },
        "id": "UOGeJRnlw4lO",
        "outputId": "2d8c2e5a-5576-4ff9-955c-9fdfb3a18c77"
      },
      "source": [
        "%%time\n",
        "norm_data, book_data,features,data_features_list = normalize_data(more_adult)\n",
        "res = minimize(mle, np.ones((9,)), method=\"BFGS\")"
      ],
      "execution_count": null,
      "outputs": [
        {
          "output_type": "stream",
          "text": [
            "CPU times: user 1min 31s, sys: 204 ms, total: 1min 31s\n",
            "Wall time: 1min 31s\n"
          ],
          "name": "stdout"
        }
      ]
    },
    {
      "cell_type": "code",
      "metadata": {
        "colab": {
          "base_uri": "https://localhost:8080/"
        },
        "id": "Tto3BT9hw4lO",
        "outputId": "538204b9-a08b-4028-e5f4-8244ac056b28"
      },
      "source": [
        "print(res.x)\n",
        "beta7 = res.x"
      ],
      "execution_count": null,
      "outputs": [
        {
          "output_type": "stream",
          "text": [
            "[-1.61299133  0.44489648  0.21437708 -0.03209845  0.10848731  0.05663473\n",
            " -0.04018944 -1.2135436   0.16383835]\n"
          ],
          "name": "stdout"
        }
      ]
    },
    {
      "cell_type": "markdown",
      "metadata": {
        "id": "MmdgDqVZ1vpv"
      },
      "source": [
        "## Analyze segment sensitivity"
      ]
    },
    {
      "cell_type": "code",
      "metadata": {
        "id": "ahab_Sq81-oL"
      },
      "source": [
        "beta_df = valor_ano = pd.DataFrame({'one_adult_early_book':beta1, \n",
        "                         'one_adult_late_book':beta2,\n",
        "                         'two_adult_early_book':beta3,\n",
        "                         'two_adult_late_book':beta4,\n",
        "                         'two_adult_early_book_with_children':beta5,\n",
        "                         'two_adult_late_book_with_children':beta6,\n",
        "                         'more_adult': beta7})\n",
        "beta_df = beta_df.T\n",
        "col_name =  data.columns[1:9].tolist()\n",
        "col_name.insert(0, \"beta0\")\n",
        "beta_df.columns = col_name\n",
        "beta_df = beta_df.drop(\"beta0\",axis=1)\n",
        "beta_df = beta_df.reset_index().melt('index', var_name='cols',  value_name='vals')\n",
        "beta_df.columns = ['type','features','score']"
      ],
      "execution_count": null,
      "outputs": []
    },
    {
      "cell_type": "code",
      "metadata": {
        "colab": {
          "base_uri": "https://localhost:8080/",
          "height": 491
        },
        "id": "d8SpHQAH6lyO",
        "outputId": "f87df130-34a7-4036-faad-38ad2e603bbf"
      },
      "source": [
        "# @title Customer Sensitivity on 8 Features\n",
        "# @markdown According to the plot, we can see that 'star rating', 'price', 'promotion flag' are three most import features for customer to make purchase decision.\n",
        "\n",
        "# @markdown 'star rating' and price' are three most importance features for customer deicision making.\n",
        "\n",
        "# @markdown the family trip booking early are most distinct type of customer that they care less about star rating, price and promotion but look at the review and historical price\n",
        "\n",
        "# @markdown Customer make booking late(within 7 days) tend to care more about the star rating, price and promotion, the more straightfoward features of the hotel. \n",
        "\n",
        "# @markdown Genrally, early book people are more flexible on the price\n",
        "plt.figure(figsize=(16,6))\n",
        "plt.ylim(-1.5,1.5)\n",
        "plt.xticks(rotation=45)\n",
        "g = sns.barplot(data=beta_df, x=\"features\", y=\"score\", hue='type')\n",
        "g.legend(loc='center left', bbox_to_anchor=(1, 0.5))"
      ],
      "execution_count": null,
      "outputs": [
        {
          "output_type": "execute_result",
          "data": {
            "text/plain": [
              "<matplotlib.legend.Legend at 0x7faf8f624450>"
            ]
          },
          "metadata": {
            "tags": []
          },
          "execution_count": 192
        },
        {
          "output_type": "display_data",
          "data": {
            "image/png": "[encoded data removed]",
            "text/plain": [
              "<Figure size 1152x432 with 1 Axes>"
            ]
          },
          "metadata": {
            "tags": []
          }
        }
      ]
    },
    {
      "cell_type": "markdown",
      "metadata": {
        "id": "r0rx7gksyWuL"
      },
      "source": [
        "## Assortment Optimization\n",
        "#### Under the MNL, the expected revenue of associated S is \n",
        "R(S) = $\\sum_{S}p_jP(j|S)$ = $\\frac{\\sum_{S}p_jv_j}{1+\\sum_Sv_i}$\n",
        "To solve the assorment optimization problem, we want to solve `MAX R(S)`\n",
        "\n",
        "\n"
      ]
    },
    {
      "cell_type": "markdown",
      "metadata": {
        "id": "crc2PGph-W8V"
      },
      "source": [
        "Theorem: Under MNL model, the optimal assortment is \"nested by price\", i.e., is of the form {1,2,...,j} for some j belongs to {1,2,...,n}"
      ]
    },
    {
      "cell_type": "code",
      "metadata": {
        "colab": {
          "base_uri": "https://localhost:8080/",
          "height": 241
        },
        "id": "tnW7mcphyGt5",
        "outputId": "79528793-3284-48c3-e8aa-8dffc7d69eab"
      },
      "source": [
        "# @markdown Assumed we are given a list of 27 available hotels, we try to sell them to each type of the customers\n",
        "data1 = pd.read_csv('/content/drive/MyDrive/BusinessApplication/Final_Project/data4.csv')\n",
        "print(f'Assume we are give a list of {data1.shape[0]} hotels')\n",
        "data1.head()"
      ],
      "execution_count": null,
      "outputs": [
        {
          "output_type": "stream",
          "text": [
            "Assume we are give a list of 27 hotels\n"
          ],
          "name": "stdout"
        },
        {
          "output_type": "execute_result",
          "data": {
            "text/html": [
              "<div>\n",
              "<style scoped>\n",
              "    .dataframe tbody tr th:only-of-type {\n",
              "        vertical-align: middle;\n",
              "    }\n",
              "\n",
              "    .dataframe tbody tr th {\n",
              "        vertical-align: top;\n",
              "    }\n",
              "\n",
              "    .dataframe thead th {\n",
              "        text-align: right;\n",
              "    }\n",
              "</style>\n",
              "<table border=\"1\" class=\"dataframe\">\n",
              "  <thead>\n",
              "    <tr style=\"text-align: right;\">\n",
              "      <th></th>\n",
              "      <th>prop_starrating</th>\n",
              "      <th>prop_review_score</th>\n",
              "      <th>prop_brand_bool</th>\n",
              "      <th>prop_location_score</th>\n",
              "      <th>prop_accesibility_score</th>\n",
              "      <th>prop_log_historical_price</th>\n",
              "      <th>price_usd</th>\n",
              "      <th>promotion_flag</th>\n",
              "    </tr>\n",
              "  </thead>\n",
              "  <tbody>\n",
              "    <tr>\n",
              "      <th>0</th>\n",
              "      <td>4</td>\n",
              "      <td>5</td>\n",
              "      <td>0</td>\n",
              "      <td>3</td>\n",
              "      <td>0</td>\n",
              "      <td>0</td>\n",
              "      <td>71</td>\n",
              "      <td>1</td>\n",
              "    </tr>\n",
              "    <tr>\n",
              "      <th>1</th>\n",
              "      <td>3</td>\n",
              "      <td>4</td>\n",
              "      <td>0</td>\n",
              "      <td>3</td>\n",
              "      <td>0</td>\n",
              "      <td>0</td>\n",
              "      <td>45</td>\n",
              "      <td>0</td>\n",
              "    </tr>\n",
              "    <tr>\n",
              "      <th>2</th>\n",
              "      <td>4</td>\n",
              "      <td>5</td>\n",
              "      <td>0</td>\n",
              "      <td>3</td>\n",
              "      <td>0</td>\n",
              "      <td>0</td>\n",
              "      <td>92</td>\n",
              "      <td>1</td>\n",
              "    </tr>\n",
              "    <tr>\n",
              "      <th>3</th>\n",
              "      <td>4</td>\n",
              "      <td>4</td>\n",
              "      <td>1</td>\n",
              "      <td>2</td>\n",
              "      <td>0</td>\n",
              "      <td>0</td>\n",
              "      <td>152</td>\n",
              "      <td>1</td>\n",
              "    </tr>\n",
              "    <tr>\n",
              "      <th>4</th>\n",
              "      <td>4</td>\n",
              "      <td>5</td>\n",
              "      <td>0</td>\n",
              "      <td>2</td>\n",
              "      <td>0</td>\n",
              "      <td>0</td>\n",
              "      <td>195</td>\n",
              "      <td>1</td>\n",
              "    </tr>\n",
              "  </tbody>\n",
              "</table>\n",
              "</div>"
            ],
            "text/plain": [
              "   prop_starrating  prop_review_score  ...  price_usd  promotion_flag\n",
              "0                4                  5  ...         71               1\n",
              "1                3                  4  ...         45               0\n",
              "2                4                  5  ...         92               1\n",
              "3                4                  4  ...        152               1\n",
              "4                4                  5  ...        195               1\n",
              "\n",
              "[5 rows x 8 columns]"
            ]
          },
          "metadata": {
            "tags": []
          },
          "execution_count": 147
        }
      ]
    },
    {
      "cell_type": "code",
      "metadata": {
        "colab": {
          "base_uri": "https://localhost:8080/"
        },
        "id": "Nziw954tPo3A",
        "outputId": "99f51f72-c79d-4abf-fdab-10631df8c7f3"
      },
      "source": [
        "scaler = StandardScaler()\n",
        "scaler.fit(data[data.columns[1:9].tolist()])"
      ],
      "execution_count": null,
      "outputs": [
        {
          "output_type": "execute_result",
          "data": {
            "text/plain": [
              "StandardScaler(copy=True, with_mean=True, with_std=True)"
            ]
          },
          "metadata": {
            "tags": []
          },
          "execution_count": 199
        }
      ]
    },
    {
      "cell_type": "code",
      "metadata": {
        "id": "XB66I3Kpy2n0"
      },
      "source": [
        "def sort_price(data):\n",
        "    data_sort=data.sort_values(by='price_usd', ascending = False)\n",
        "    return data_sort\n",
        "\n",
        "# normalize data\n",
        "def normalize_data(data):\n",
        "    data=sort_price(data)\n",
        "    global scaler\n",
        "    # scaler = StandardScaler()\n",
        "    data_arr= scaler.fit_transform(data)\n",
        "    return data_arr\n",
        "def assortment (data, w):\n",
        "    data=sort_price(data)\n",
        "    data_arr=normalize_data(data)\n",
        "    # beta values\n",
        "    # w=[-1.74662561,0.4081257,0.10876137, 0.10138233,0.0220258,0.04344385, -0.06686915, -1.33111708,0.15977632]\n",
        "    #u\n",
        "    u=[0 for i in range (len(data_arr))]\n",
        "    for i in range (len(data_arr)):\n",
        "        u[i]+=w[0]\n",
        "        for k in range (8):\n",
        "            u[i]+= w[k+1] * data_arr[i][k]\n",
        "\n",
        "    # v\n",
        "    v=[np.exp(u[i]) for i in range (len(data_arr))]\n",
        "\n",
        "    # p\n",
        "    p=data['price_usd'].tolist()\n",
        "\n",
        "    possible=[i for i in range(len(data_arr))]\n",
        "    #possible combinmation\n",
        "    group=[]\n",
        "    for i in possible:\n",
        "        group.append(possible[:i+1])\n",
        "\n",
        "    sum=[0 for i in range(len(data_arr))]\n",
        "\n",
        "    for i in range (len(data_arr)):\n",
        "        upper=0\n",
        "        lower=1\n",
        "        for j in group[i]:\n",
        "            upper+=p[j]*v[j]\n",
        "            lower+=v[j]\n",
        "\n",
        "        sum[i]=upper/lower\n",
        "    # print(sum)\n",
        "\n",
        "    index=sum.index(max(sum))\n",
        "    print('The highest expected revenue is:', max(sum))\n",
        "    print('The assortment is',list(data[:index].index))\n",
        "    print(f'Total {index} hotels should display to achieve the max price')\n",
        "    return list(data[:index].index), max(sum), data[:index]"
      ],
      "execution_count": null,
      "outputs": []
    },
    {
      "cell_type": "code",
      "metadata": {
        "colab": {
          "base_uri": "https://localhost:8080/"
        },
        "id": "HcXCFLDa1SPl",
        "outputId": "ae1bc126-03ed-4723-f8f2-539050fc2c10"
      },
      "source": [
        "assortment1, r1, detial1 = assortment(data1, beta1)\n",
        "assortment2, r2, detial2 = assortment(data1, beta2)\n",
        "assortment3, r3, detial3 = assortment(data1, beta3)\n",
        "assortment4, r4, detial4 = assortment(data1, beta4)\n",
        "assortment5, r5, detial5 = assortment(data1, beta5)\n",
        "assortment6, r6, detial6 = assortment(data1, beta6)\n",
        "assortment7, r7, detial7 = assortment(data1, beta7)"
      ],
      "execution_count": null,
      "outputs": [
        {
          "output_type": "stream",
          "text": [
            "The highest expected revenue is: 73.63178804760346\n",
            "The assortment is [4, 3, 20, 21, 19, 26, 15, 6, 10, 18, 8, 2, 23, 7]\n",
            "Total 14 hotels should display to achieve the max price\n",
            "The highest expected revenue is: 83.9338719145546\n",
            "The assortment is [4, 3, 20, 21, 19, 26, 15, 6, 10, 18, 8, 2, 23]\n",
            "Total 13 hotels should display to achieve the max price\n",
            "The highest expected revenue is: 66.13628193720481\n",
            "The assortment is [4, 3, 20, 21, 19, 26, 15, 6, 10, 18, 8, 2, 23, 7, 9, 0]\n",
            "Total 16 hotels should display to achieve the max price\n",
            "The highest expected revenue is: 69.69352128535344\n",
            "The assortment is [4, 3, 20, 21, 19, 26, 15, 6, 10, 18, 8, 2, 23, 7, 9]\n",
            "Total 15 hotels should display to achieve the max price\n",
            "The highest expected revenue is: 70.34789206390803\n",
            "The assortment is [4, 3, 20, 21, 19, 26, 15, 6, 10, 18, 8, 2, 23, 7, 9]\n",
            "Total 15 hotels should display to achieve the max price\n",
            "The highest expected revenue is: 67.2075661757774\n",
            "The assortment is [4, 3, 20, 21, 19, 26, 15, 6, 10, 18, 8, 2, 23, 7, 9, 0]\n",
            "Total 16 hotels should display to achieve the max price\n",
            "The highest expected revenue is: 70.29031946812488\n",
            "The assortment is [4, 3, 20, 21, 19, 26, 15, 6, 10, 18, 8, 2, 23, 7, 9]\n",
            "Total 15 hotels should display to achieve the max price\n"
          ],
          "name": "stdout"
        }
      ]
    },
    {
      "cell_type": "code",
      "metadata": {
        "colab": {
          "base_uri": "https://localhost:8080/"
        },
        "id": "WkzN0N1LnhLX",
        "outputId": "469e00f1-b448-4bb3-a05b-a33b1ff2ca6e"
      },
      "source": [
        "E_Revenue = r1+r2+r3+r4+r5+r6+r7\n",
        "print(f'The total expecte revenue with this list of hotels is {E_Revenue}')"
      ],
      "execution_count": null,
      "outputs": [
        {
          "output_type": "stream",
          "text": [
            "The total expecte revenue with this list of hotels is 501.24124089252666\n"
          ],
          "name": "stdout"
        }
      ]
    },
    {
      "cell_type": "markdown",
      "metadata": {
        "id": "h9wwalrV6QJS"
      },
      "source": [
        "### Price optimization"
      ]
    },
    {
      "cell_type": "code",
      "metadata": {
        "id": "PyXaGvwChqms"
      },
      "source": [
        "def find_price(hotel, w):\n",
        "    # drop price column\n",
        "    # normalize data\n",
        "\n",
        "\n",
        "    beta_p= w[-2]\n",
        "    beta= np.delete(w, -2)\n",
        "\n",
        "    #price mean, std\n",
        "    price = hotel.price_usd.tolist()\n",
        "    price_mean = np.mean(price)\n",
        "    price_std = np.std(price)\n",
        "    scaler = StandardScaler()\n",
        "    scaler.fit(data[data.columns[1:9].tolist()])\n",
        "    data_ = scaler.transform(hotel)\n",
        "    data_alpha=np.delete(data_,[6], axis = 1)\n",
        "\n",
        "    def rev(p):\n",
        "        first=0\n",
        "        second=1\n",
        "        \n",
        "        for j in range(len(p)):\n",
        "            alpha=0\n",
        "            for k in range(7):\n",
        "                alpha+=beta[k+1]*data_alpha[j][k]\n",
        "\n",
        "            first+= (p[j]*price_std + price_mean)*np.exp((beta[0]+alpha-1.33111708*p[j]))\n",
        "            second+= np.exp(beta[0]+alpha-1.33111708*p[j])\n",
        "\n",
        "        obj = np.log(first)-np.log(second)\n",
        "        return -obj\n",
        "\n",
        "    result = minimize(rev, np.random.rand(data_alpha.shape[0],), method=\"BFGS\")\n",
        "    res=result.x*price_std + price_mean\n",
        "    print('optimal prices',res)\n",
        "    print('Expected revenue is:',np.exp(-result.fun))"
      ],
      "execution_count": null,
      "outputs": []
    },
    {
      "cell_type": "code",
      "metadata": {
        "colab": {
          "base_uri": "https://localhost:8080/"
        },
        "id": "5bjoWczBi7Wj",
        "outputId": "52d43ef7-6331-4433-e19c-23692b6612a7"
      },
      "source": [
        "# @markdown The price is all the same because we dont count in the cost of hotel room\n",
        "find_price(data1, beta1)"
      ],
      "execution_count": null,
      "outputs": [
        {
          "output_type": "stream",
          "text": [
            "optimal prices [113.6138864  113.6536003  113.61222423 113.62745369 113.6133133\n",
            " 113.6210865  113.62409698 113.61882629 113.62441038 113.60913577\n",
            " 113.60703376 113.60307552 113.64409767 113.60201164 113.65284083\n",
            " 113.60102811 113.57696358 113.62682812 113.58628227 113.62757966\n",
            " 113.6094149  113.6173052  113.61204753 113.60708799 113.62971447\n",
            " 113.59567402 113.6169394 ]\n",
            "Expected revenue is: 85.87307925472464\n"
          ],
          "name": "stdout"
        }
      ]
    },
    {
      "cell_type": "markdown",
      "metadata": {
        "id": "MaGoZEVt56b9"
      },
      "source": [
        "## Conclusion"
      ]
    }
  ]
}